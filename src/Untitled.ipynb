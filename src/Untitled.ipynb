{
 "cells": [
  {
   "cell_type": "code",
   "execution_count": 21,
   "metadata": {},
   "outputs": [],
   "source": [
    "import pandas as pd\n",
    "import os\n",
    "import plotly.express as px\n"
   ]
  },
  {
   "cell_type": "code",
   "execution_count": 153,
   "metadata": {},
   "outputs": [],
   "source": [
    "# ------------------------------------------------------------------------------\n",
    "# Import and clean data (importing csv into pandas)\n",
    "df = pd.read_csv(\"../data/Analysis/Baseball_results.csv\", parse_dates=['Datetime'],date_parser=lambda col: pd.to_datetime(col, utc=True), index_col='Datetime')\n",
    "dff =df.copy()"
   ]
  },
  {
   "cell_type": "code",
   "execution_count": 154,
   "metadata": {},
   "outputs": [
    {
     "data": {
      "text/html": [
       "<div>\n",
       "<style scoped>\n",
       "    .dataframe tbody tr th:only-of-type {\n",
       "        vertical-align: middle;\n",
       "    }\n",
       "\n",
       "    .dataframe tbody tr th {\n",
       "        vertical-align: top;\n",
       "    }\n",
       "\n",
       "    .dataframe thead th {\n",
       "        text-align: right;\n",
       "    }\n",
       "</style>\n",
       "<table border=\"1\" class=\"dataframe\">\n",
       "  <thead>\n",
       "    <tr style=\"text-align: right;\">\n",
       "      <th></th>\n",
       "      <th>Actual</th>\n",
       "      <th>Predicted</th>\n",
       "      <th>obs_ci_lower</th>\n",
       "      <th>obs_ci_upper</th>\n",
       "    </tr>\n",
       "    <tr>\n",
       "      <th>Datetime</th>\n",
       "      <th></th>\n",
       "      <th></th>\n",
       "      <th></th>\n",
       "      <th></th>\n",
       "    </tr>\n",
       "  </thead>\n",
       "  <tbody>\n",
       "    <tr>\n",
       "      <th>2015-01-01 00:00:00-05:00</th>\n",
       "      <td>4.0</td>\n",
       "      <td>14.505092</td>\n",
       "      <td>2.790741</td>\n",
       "      <td>26.219442</td>\n",
       "    </tr>\n",
       "    <tr>\n",
       "      <th>2015-01-01 01:00:00-05:00</th>\n",
       "      <td>4.0</td>\n",
       "      <td>15.224404</td>\n",
       "      <td>3.510729</td>\n",
       "      <td>26.938079</td>\n",
       "    </tr>\n",
       "    <tr>\n",
       "      <th>2015-01-01 02:00:00-05:00</th>\n",
       "      <td>5.0</td>\n",
       "      <td>14.386070</td>\n",
       "      <td>2.672777</td>\n",
       "      <td>26.099362</td>\n",
       "    </tr>\n",
       "    <tr>\n",
       "      <th>2015-01-01 03:00:00-05:00</th>\n",
       "      <td>10.0</td>\n",
       "      <td>15.153938</td>\n",
       "      <td>3.440976</td>\n",
       "      <td>26.866901</td>\n",
       "    </tr>\n",
       "    <tr>\n",
       "      <th>2015-01-01 04:00:00-05:00</th>\n",
       "      <td>9.0</td>\n",
       "      <td>16.164925</td>\n",
       "      <td>4.451676</td>\n",
       "      <td>27.878173</td>\n",
       "    </tr>\n",
       "    <tr>\n",
       "      <th>...</th>\n",
       "      <td>...</td>\n",
       "      <td>...</td>\n",
       "      <td>...</td>\n",
       "      <td>...</td>\n",
       "    </tr>\n",
       "    <tr>\n",
       "      <th>2020-11-12 19:00:00-05:00</th>\n",
       "      <td>4.0</td>\n",
       "      <td>44.979990</td>\n",
       "      <td>33.158411</td>\n",
       "      <td>56.801570</td>\n",
       "    </tr>\n",
       "    <tr>\n",
       "      <th>2020-11-12 20:00:00-05:00</th>\n",
       "      <td>4.0</td>\n",
       "      <td>44.989545</td>\n",
       "      <td>33.169542</td>\n",
       "      <td>56.809549</td>\n",
       "    </tr>\n",
       "    <tr>\n",
       "      <th>2020-11-12 21:00:00-05:00</th>\n",
       "      <td>3.0</td>\n",
       "      <td>40.215491</td>\n",
       "      <td>28.395390</td>\n",
       "      <td>52.035593</td>\n",
       "    </tr>\n",
       "    <tr>\n",
       "      <th>2020-11-12 22:00:00-05:00</th>\n",
       "      <td>4.0</td>\n",
       "      <td>39.499014</td>\n",
       "      <td>27.679140</td>\n",
       "      <td>51.318889</td>\n",
       "    </tr>\n",
       "    <tr>\n",
       "      <th>2020-11-12 23:00:00-05:00</th>\n",
       "      <td>2.0</td>\n",
       "      <td>38.938586</td>\n",
       "      <td>27.118702</td>\n",
       "      <td>50.758471</td>\n",
       "    </tr>\n",
       "  </tbody>\n",
       "</table>\n",
       "<p>50654 rows × 4 columns</p>\n",
       "</div>"
      ],
      "text/plain": [
       "                           Actual  Predicted  obs_ci_lower  obs_ci_upper\n",
       "Datetime                                                                \n",
       "2015-01-01 00:00:00-05:00     4.0  14.505092      2.790741     26.219442\n",
       "2015-01-01 01:00:00-05:00     4.0  15.224404      3.510729     26.938079\n",
       "2015-01-01 02:00:00-05:00     5.0  14.386070      2.672777     26.099362\n",
       "2015-01-01 03:00:00-05:00    10.0  15.153938      3.440976     26.866901\n",
       "2015-01-01 04:00:00-05:00     9.0  16.164925      4.451676     27.878173\n",
       "...                           ...        ...           ...           ...\n",
       "2020-11-12 19:00:00-05:00     4.0  44.979990     33.158411     56.801570\n",
       "2020-11-12 20:00:00-05:00     4.0  44.989545     33.169542     56.809549\n",
       "2020-11-12 21:00:00-05:00     3.0  40.215491     28.395390     52.035593\n",
       "2020-11-12 22:00:00-05:00     4.0  39.499014     27.679140     51.318889\n",
       "2020-11-12 23:00:00-05:00     2.0  38.938586     27.118702     50.758471\n",
       "\n",
       "[50654 rows x 4 columns]"
      ]
     },
     "execution_count": 154,
     "metadata": {},
     "output_type": "execute_result"
    }
   ],
   "source": [
    "df"
   ]
  },
  {
   "cell_type": "code",
   "execution_count": 159,
   "metadata": {},
   "outputs": [
    {
     "data": {
      "text/html": [
       "<div>\n",
       "<style scoped>\n",
       "    .dataframe tbody tr th:only-of-type {\n",
       "        vertical-align: middle;\n",
       "    }\n",
       "\n",
       "    .dataframe tbody tr th {\n",
       "        vertical-align: top;\n",
       "    }\n",
       "\n",
       "    .dataframe thead th {\n",
       "        text-align: right;\n",
       "    }\n",
       "</style>\n",
       "<table border=\"1\" class=\"dataframe\">\n",
       "  <thead>\n",
       "    <tr style=\"text-align: right;\">\n",
       "      <th></th>\n",
       "      <th>Actual</th>\n",
       "      <th>Predicted</th>\n",
       "      <th>obs_ci_lower</th>\n",
       "      <th>obs_ci_upper</th>\n",
       "    </tr>\n",
       "    <tr>\n",
       "      <th>Datetime</th>\n",
       "      <th></th>\n",
       "      <th></th>\n",
       "      <th></th>\n",
       "      <th></th>\n",
       "    </tr>\n",
       "  </thead>\n",
       "  <tbody>\n",
       "    <tr>\n",
       "      <th>2015-12-31 00:00:00+00:00</th>\n",
       "      <td>122502.0</td>\n",
       "      <td>118801.191825</td>\n",
       "      <td>17377.580231</td>\n",
       "      <td>220224.803420</td>\n",
       "    </tr>\n",
       "    <tr>\n",
       "      <th>2016-12-31 00:00:00+00:00</th>\n",
       "      <td>135578.0</td>\n",
       "      <td>139186.470534</td>\n",
       "      <td>37748.918587</td>\n",
       "      <td>240624.022481</td>\n",
       "    </tr>\n",
       "    <tr>\n",
       "      <th>2017-12-31 00:00:00+00:00</th>\n",
       "      <td>133592.0</td>\n",
       "      <td>143558.163191</td>\n",
       "      <td>42319.670500</td>\n",
       "      <td>244796.655881</td>\n",
       "    </tr>\n",
       "    <tr>\n",
       "      <th>2018-12-31 00:00:00+00:00</th>\n",
       "      <td>160091.0</td>\n",
       "      <td>144020.965210</td>\n",
       "      <td>43941.884936</td>\n",
       "      <td>244100.045484</td>\n",
       "    </tr>\n",
       "    <tr>\n",
       "      <th>2019-12-31 00:00:00+00:00</th>\n",
       "      <td>123158.0</td>\n",
       "      <td>129350.970302</td>\n",
       "      <td>28213.390785</td>\n",
       "      <td>230488.549819</td>\n",
       "    </tr>\n",
       "    <tr>\n",
       "      <th>2020-12-31 00:00:00+00:00</th>\n",
       "      <td>92661.0</td>\n",
       "      <td>263828.147711</td>\n",
       "      <td>175336.831122</td>\n",
       "      <td>352319.464300</td>\n",
       "    </tr>\n",
       "  </tbody>\n",
       "</table>\n",
       "</div>"
      ],
      "text/plain": [
       "                             Actual      Predicted   obs_ci_lower  \\\n",
       "Datetime                                                            \n",
       "2015-12-31 00:00:00+00:00  122502.0  118801.191825   17377.580231   \n",
       "2016-12-31 00:00:00+00:00  135578.0  139186.470534   37748.918587   \n",
       "2017-12-31 00:00:00+00:00  133592.0  143558.163191   42319.670500   \n",
       "2018-12-31 00:00:00+00:00  160091.0  144020.965210   43941.884936   \n",
       "2019-12-31 00:00:00+00:00  123158.0  129350.970302   28213.390785   \n",
       "2020-12-31 00:00:00+00:00   92661.0  263828.147711  175336.831122   \n",
       "\n",
       "                            obs_ci_upper  \n",
       "Datetime                                  \n",
       "2015-12-31 00:00:00+00:00  220224.803420  \n",
       "2016-12-31 00:00:00+00:00  240624.022481  \n",
       "2017-12-31 00:00:00+00:00  244796.655881  \n",
       "2018-12-31 00:00:00+00:00  244100.045484  \n",
       "2019-12-31 00:00:00+00:00  230488.549819  \n",
       "2020-12-31 00:00:00+00:00  352319.464300  "
      ]
     },
     "execution_count": 159,
     "metadata": {},
     "output_type": "execute_result"
    }
   ],
   "source": [
    "df.resample('Y').sum()"
   ]
  },
  {
   "cell_type": "code",
   "execution_count": 131,
   "metadata": {},
   "outputs": [
    {
     "data": {
      "text/plain": [
       "Index([2015-01-01 00:00:00-05:00, 2015-01-01 01:00:00-05:00,\n",
       "       2015-01-01 02:00:00-05:00, 2015-01-01 03:00:00-05:00,\n",
       "       2015-01-01 04:00:00-05:00, 2015-01-01 05:00:00-05:00,\n",
       "       2015-01-01 06:00:00-05:00, 2015-01-01 07:00:00-05:00,\n",
       "       2015-01-01 08:00:00-05:00, 2015-01-01 09:00:00-05:00,\n",
       "       ...\n",
       "       2020-11-12 14:00:00-05:00, 2020-11-12 15:00:00-05:00,\n",
       "       2020-11-12 16:00:00-05:00, 2020-11-12 17:00:00-05:00,\n",
       "       2020-11-12 18:00:00-05:00, 2020-11-12 19:00:00-05:00,\n",
       "       2020-11-12 20:00:00-05:00, 2020-11-12 21:00:00-05:00,\n",
       "       2020-11-12 22:00:00-05:00, 2020-11-12 23:00:00-05:00],\n",
       "      dtype='object', length=50654)"
      ]
     },
     "execution_count": 131,
     "metadata": {},
     "output_type": "execute_result"
    }
   ],
   "source": [
    "df.index.dtype = pd."
   ]
  },
  {
   "cell_type": "code",
   "execution_count": 103,
   "metadata": {},
   "outputs": [
    {
     "data": {
      "text/plain": [
       "datetime.datetime(2015, 1, 1, 0, 0, tzinfo=tzoffset(None, -18000))"
      ]
     },
     "execution_count": 103,
     "metadata": {},
     "output_type": "execute_result"
    }
   ],
   "source": [
    "df.index[0]"
   ]
  },
  {
   "cell_type": "code",
   "execution_count": null,
   "metadata": {
    "pycharm": {
     "name": "#%%\n"
    }
   },
   "outputs": [],
   "source": [
    "df2 = df.set_index(['Datetime'])\n"
   ]
  },
  {
   "cell_type": "code",
   "execution_count": null,
   "metadata": {
    "pycharm": {
     "name": "#%%\n"
    }
   },
   "outputs": [],
   "source": [
    "df2"
   ]
  },
  {
   "cell_type": "code",
   "execution_count": null,
   "outputs": [],
   "source": [
    "type(df2.index)"
   ],
   "metadata": {
    "collapsed": false,
    "pycharm": {
     "name": "#%%\n"
    }
   }
  },
  {
   "cell_type": "code",
   "execution_count": null,
   "outputs": [],
   "source": [
    "df2.index  = df2.index.DatetimeIndex()"
   ],
   "metadata": {
    "collapsed": false,
    "pycharm": {
     "name": "#%%\n"
    }
   }
  },
  {
   "cell_type": "code",
   "execution_count": null,
   "outputs": [],
   "source": [
    "df2"
   ],
   "metadata": {
    "collapsed": false,
    "pycharm": {
     "name": "#%%\n"
    }
   }
  },
  {
   "cell_type": "code",
   "execution_count": null,
   "outputs": [],
   "source": [
    "df2.resample('M')"
   ],
   "metadata": {
    "collapsed": false,
    "pycharm": {
     "name": "#%%\n"
    }
   }
  },
  {
   "cell_type": "code",
   "execution_count": null,
   "outputs": [],
   "source": [
    "\n",
    "fig = px.scatter(x=df['Datetime'].resample('Q').sum(),\n",
    "                 y=df['Actual'],\n",
    "                 # hover_name=dff[dff['Indicator Name'] == yaxis_column_name]['Country Name']\n",
    "                 )\n",
    "\n",
    "fig.show()\n"
   ],
   "metadata": {
    "collapsed": false,
    "pycharm": {
     "name": "#%%\n"
    }
   }
  },
  {
   "cell_type": "code",
   "execution_count": null,
   "metadata": {
    "pycharm": {
     "name": "#%%\n"
    }
   },
   "outputs": [],
   "source": [
    "df2"
   ]
  },
  {
   "cell_type": "code",
   "execution_count": null,
   "metadata": {
    "pycharm": {
     "name": "#%%\n"
    }
   },
   "outputs": [],
   "source": [
    "df2.index  = df2.index.DatetimeIndex()"
   ]
  },
  {
   "cell_type": "code",
   "execution_count": null,
   "metadata": {
    "pycharm": {
     "name": "#%%\n"
    }
   },
   "outputs": [],
   "source": [
    "df2"
   ]
  },
  {
   "cell_type": "code",
   "execution_count": null,
   "metadata": {
    "pycharm": {
     "name": "#%%\n"
    }
   },
   "outputs": [],
   "source": [
    "df2.resample('M')"
   ]
  },
  {
   "cell_type": "code",
   "execution_count": 79,
   "metadata": {},
   "outputs": [],
   "source": [
    "\n",
    "fig = px.scatter(x=df['Datetime'].resample('Q').sum(),\n",
    "                 y=df['Actual'],\n",
    "                 # hover_name=dff[dff['Indicator Name'] == yaxis_column_name]['Country Name']\n",
    "                 )\n",
    "\n",
    "fig.show()\n"
   ]
  },
  {
   "cell_type": "code",
   "execution_count": 80,
   "metadata": {},
   "outputs": [
    {
     "data": {
      "text/html": [
       "<div>\n",
       "<style scoped>\n",
       "    .dataframe tbody tr th:only-of-type {\n",
       "        vertical-align: middle;\n",
       "    }\n",
       "\n",
       "    .dataframe tbody tr th {\n",
       "        vertical-align: top;\n",
       "    }\n",
       "\n",
       "    .dataframe thead th {\n",
       "        text-align: right;\n",
       "    }\n",
       "</style>\n",
       "<table border=\"1\" class=\"dataframe\">\n",
       "  <thead>\n",
       "    <tr style=\"text-align: right;\">\n",
       "      <th></th>\n",
       "      <th>Actual</th>\n",
       "      <th>Predicted</th>\n",
       "      <th>obs_ci_lower</th>\n",
       "      <th>obs_ci_upper</th>\n",
       "    </tr>\n",
       "    <tr>\n",
       "      <th>Datetime</th>\n",
       "      <th></th>\n",
       "      <th></th>\n",
       "      <th></th>\n",
       "      <th></th>\n",
       "    </tr>\n",
       "  </thead>\n",
       "  <tbody>\n",
       "    <tr>\n",
       "      <th>2015-01-01 00:00:00-05:00</th>\n",
       "      <td>4.0</td>\n",
       "      <td>14.505092</td>\n",
       "      <td>2.790741</td>\n",
       "      <td>26.219442</td>\n",
       "    </tr>\n",
       "    <tr>\n",
       "      <th>2015-01-01 01:00:00-05:00</th>\n",
       "      <td>4.0</td>\n",
       "      <td>15.224404</td>\n",
       "      <td>3.510729</td>\n",
       "      <td>26.938079</td>\n",
       "    </tr>\n",
       "    <tr>\n",
       "      <th>2015-01-01 02:00:00-05:00</th>\n",
       "      <td>5.0</td>\n",
       "      <td>14.386070</td>\n",
       "      <td>2.672777</td>\n",
       "      <td>26.099362</td>\n",
       "    </tr>\n",
       "    <tr>\n",
       "      <th>2015-01-01 03:00:00-05:00</th>\n",
       "      <td>10.0</td>\n",
       "      <td>15.153938</td>\n",
       "      <td>3.440976</td>\n",
       "      <td>26.866901</td>\n",
       "    </tr>\n",
       "    <tr>\n",
       "      <th>2015-01-01 04:00:00-05:00</th>\n",
       "      <td>9.0</td>\n",
       "      <td>16.164925</td>\n",
       "      <td>4.451676</td>\n",
       "      <td>27.878173</td>\n",
       "    </tr>\n",
       "    <tr>\n",
       "      <th>...</th>\n",
       "      <td>...</td>\n",
       "      <td>...</td>\n",
       "      <td>...</td>\n",
       "      <td>...</td>\n",
       "    </tr>\n",
       "    <tr>\n",
       "      <th>2020-11-12 19:00:00-05:00</th>\n",
       "      <td>4.0</td>\n",
       "      <td>44.979990</td>\n",
       "      <td>33.158411</td>\n",
       "      <td>56.801570</td>\n",
       "    </tr>\n",
       "    <tr>\n",
       "      <th>2020-11-12 20:00:00-05:00</th>\n",
       "      <td>4.0</td>\n",
       "      <td>44.989545</td>\n",
       "      <td>33.169542</td>\n",
       "      <td>56.809549</td>\n",
       "    </tr>\n",
       "    <tr>\n",
       "      <th>2020-11-12 21:00:00-05:00</th>\n",
       "      <td>3.0</td>\n",
       "      <td>40.215491</td>\n",
       "      <td>28.395390</td>\n",
       "      <td>52.035593</td>\n",
       "    </tr>\n",
       "    <tr>\n",
       "      <th>2020-11-12 22:00:00-05:00</th>\n",
       "      <td>4.0</td>\n",
       "      <td>39.499014</td>\n",
       "      <td>27.679140</td>\n",
       "      <td>51.318889</td>\n",
       "    </tr>\n",
       "    <tr>\n",
       "      <th>2020-11-12 23:00:00-05:00</th>\n",
       "      <td>2.0</td>\n",
       "      <td>38.938586</td>\n",
       "      <td>27.118702</td>\n",
       "      <td>50.758471</td>\n",
       "    </tr>\n",
       "  </tbody>\n",
       "</table>\n",
       "<p>50654 rows × 4 columns</p>\n",
       "</div>"
      ],
      "text/plain": [
       "                           Actual  Predicted  obs_ci_lower  obs_ci_upper\n",
       "Datetime                                                                \n",
       "2015-01-01 00:00:00-05:00     4.0  14.505092      2.790741     26.219442\n",
       "2015-01-01 01:00:00-05:00     4.0  15.224404      3.510729     26.938079\n",
       "2015-01-01 02:00:00-05:00     5.0  14.386070      2.672777     26.099362\n",
       "2015-01-01 03:00:00-05:00    10.0  15.153938      3.440976     26.866901\n",
       "2015-01-01 04:00:00-05:00     9.0  16.164925      4.451676     27.878173\n",
       "...                           ...        ...           ...           ...\n",
       "2020-11-12 19:00:00-05:00     4.0  44.979990     33.158411     56.801570\n",
       "2020-11-12 20:00:00-05:00     4.0  44.989545     33.169542     56.809549\n",
       "2020-11-12 21:00:00-05:00     3.0  40.215491     28.395390     52.035593\n",
       "2020-11-12 22:00:00-05:00     4.0  39.499014     27.679140     51.318889\n",
       "2020-11-12 23:00:00-05:00     2.0  38.938586     27.118702     50.758471\n",
       "\n",
       "[50654 rows x 4 columns]"
      ]
     },
     "execution_count": 80,
     "metadata": {},
     "output_type": "execute_result"
    }
   ],
   "source": [
    "df2"
   ]
  },
  {
   "cell_type": "code",
   "execution_count": 84,
   "metadata": {},
   "outputs": [
    {
     "data": {
      "text/plain": [
       "pandas.core.indexes.base.Index"
      ]
     },
     "execution_count": 84,
     "metadata": {},
     "output_type": "execute_result"
    }
   ],
   "source": [
    "type(df2.index)"
   ]
  },
  {
   "cell_type": "code",
   "execution_count": 82,
   "metadata": {},
   "outputs": [
    {
     "ename": "AttributeError",
     "evalue": "'Index' object has no attribute 'DatetimeIndex'",
     "output_type": "error",
     "traceback": [
      "\u001B[1;31m---------------------------------------------------------------------------\u001B[0m",
      "\u001B[1;31mAttributeError\u001B[0m                            Traceback (most recent call last)",
      "\u001B[1;32m<ipython-input-82-20c118f07d5b>\u001B[0m in \u001B[0;36m<module>\u001B[1;34m\u001B[0m\n\u001B[1;32m----> 1\u001B[1;33m \u001B[0mdf2\u001B[0m\u001B[1;33m.\u001B[0m\u001B[0mindex\u001B[0m  \u001B[1;33m=\u001B[0m \u001B[0mdf2\u001B[0m\u001B[1;33m.\u001B[0m\u001B[0mindex\u001B[0m\u001B[1;33m.\u001B[0m\u001B[0mDatetimeIndex\u001B[0m\u001B[1;33m(\u001B[0m\u001B[1;33m)\u001B[0m\u001B[1;33m\u001B[0m\u001B[1;33m\u001B[0m\u001B[0m\n\u001B[0m",
      "\u001B[1;31mAttributeError\u001B[0m: 'Index' object has no attribute 'DatetimeIndex'"
     ]
    }
   ],
   "source": [
    "df2.index  = df2.index.DatetimeIndex()"
   ]
  },
  {
   "cell_type": "code",
   "execution_count": null,
   "metadata": {},
   "outputs": [],
   "source": [
    "df2"
   ]
  },
  {
   "cell_type": "code",
   "execution_count": 45,
   "metadata": {},
   "outputs": [
    {
     "ename": "TypeError",
     "evalue": "Only valid with DatetimeIndex, TimedeltaIndex or PeriodIndex, but got an instance of 'Index'",
     "output_type": "error",
     "traceback": [
      "\u001B[1;31m---------------------------------------------------------------------------\u001B[0m",
      "\u001B[1;31mTypeError\u001B[0m                                 Traceback (most recent call last)",
      "\u001B[1;32m<ipython-input-45-2a59b5ceab33>\u001B[0m in \u001B[0;36m<module>\u001B[1;34m\u001B[0m\n\u001B[1;32m----> 1\u001B[1;33m \u001B[0mdf2\u001B[0m\u001B[1;33m.\u001B[0m\u001B[0mresample\u001B[0m\u001B[1;33m(\u001B[0m\u001B[1;34m'M'\u001B[0m\u001B[1;33m)\u001B[0m\u001B[1;33m\u001B[0m\u001B[1;33m\u001B[0m\u001B[0m\n\u001B[0m",
      "\u001B[1;32m~\\Anaconda3\\lib\\site-packages\\pandas\\core\\generic.py\u001B[0m in \u001B[0;36mresample\u001B[1;34m(self, rule, axis, closed, label, convention, kind, loffset, base, on, level)\u001B[0m\n\u001B[0;32m   8102\u001B[0m \u001B[1;33m\u001B[0m\u001B[0m\n\u001B[0;32m   8103\u001B[0m         \u001B[0maxis\u001B[0m \u001B[1;33m=\u001B[0m \u001B[0mself\u001B[0m\u001B[1;33m.\u001B[0m\u001B[0m_get_axis_number\u001B[0m\u001B[1;33m(\u001B[0m\u001B[0maxis\u001B[0m\u001B[1;33m)\u001B[0m\u001B[1;33m\u001B[0m\u001B[1;33m\u001B[0m\u001B[0m\n\u001B[1;32m-> 8104\u001B[1;33m         return resample(\n\u001B[0m\u001B[0;32m   8105\u001B[0m             \u001B[0mself\u001B[0m\u001B[1;33m,\u001B[0m\u001B[1;33m\u001B[0m\u001B[1;33m\u001B[0m\u001B[0m\n\u001B[0;32m   8106\u001B[0m             \u001B[0mfreq\u001B[0m\u001B[1;33m=\u001B[0m\u001B[0mrule\u001B[0m\u001B[1;33m,\u001B[0m\u001B[1;33m\u001B[0m\u001B[1;33m\u001B[0m\u001B[0m\n",
      "\u001B[1;32m~\\Anaconda3\\lib\\site-packages\\pandas\\core\\resample.py\u001B[0m in \u001B[0;36mresample\u001B[1;34m(obj, kind, **kwds)\u001B[0m\n\u001B[0;32m   1268\u001B[0m     \"\"\"\n\u001B[0;32m   1269\u001B[0m     \u001B[0mtg\u001B[0m \u001B[1;33m=\u001B[0m \u001B[0mTimeGrouper\u001B[0m\u001B[1;33m(\u001B[0m\u001B[1;33m**\u001B[0m\u001B[0mkwds\u001B[0m\u001B[1;33m)\u001B[0m\u001B[1;33m\u001B[0m\u001B[1;33m\u001B[0m\u001B[0m\n\u001B[1;32m-> 1270\u001B[1;33m     \u001B[1;32mreturn\u001B[0m \u001B[0mtg\u001B[0m\u001B[1;33m.\u001B[0m\u001B[0m_get_resampler\u001B[0m\u001B[1;33m(\u001B[0m\u001B[0mobj\u001B[0m\u001B[1;33m,\u001B[0m \u001B[0mkind\u001B[0m\u001B[1;33m=\u001B[0m\u001B[0mkind\u001B[0m\u001B[1;33m)\u001B[0m\u001B[1;33m\u001B[0m\u001B[1;33m\u001B[0m\u001B[0m\n\u001B[0m\u001B[0;32m   1271\u001B[0m \u001B[1;33m\u001B[0m\u001B[0m\n\u001B[0;32m   1272\u001B[0m \u001B[1;33m\u001B[0m\u001B[0m\n",
      "\u001B[1;32m~\\Anaconda3\\lib\\site-packages\\pandas\\core\\resample.py\u001B[0m in \u001B[0;36m_get_resampler\u001B[1;34m(self, obj, kind)\u001B[0m\n\u001B[0;32m   1401\u001B[0m             \u001B[1;32mreturn\u001B[0m \u001B[0mTimedeltaIndexResampler\u001B[0m\u001B[1;33m(\u001B[0m\u001B[0mobj\u001B[0m\u001B[1;33m,\u001B[0m \u001B[0mgroupby\u001B[0m\u001B[1;33m=\u001B[0m\u001B[0mself\u001B[0m\u001B[1;33m,\u001B[0m \u001B[0maxis\u001B[0m\u001B[1;33m=\u001B[0m\u001B[0mself\u001B[0m\u001B[1;33m.\u001B[0m\u001B[0maxis\u001B[0m\u001B[1;33m)\u001B[0m\u001B[1;33m\u001B[0m\u001B[1;33m\u001B[0m\u001B[0m\n\u001B[0;32m   1402\u001B[0m \u001B[1;33m\u001B[0m\u001B[0m\n\u001B[1;32m-> 1403\u001B[1;33m         raise TypeError(\n\u001B[0m\u001B[0;32m   1404\u001B[0m             \u001B[1;34m\"Only valid with DatetimeIndex, \"\u001B[0m\u001B[1;33m\u001B[0m\u001B[1;33m\u001B[0m\u001B[0m\n\u001B[0;32m   1405\u001B[0m             \u001B[1;34m\"TimedeltaIndex or PeriodIndex, \"\u001B[0m\u001B[1;33m\u001B[0m\u001B[1;33m\u001B[0m\u001B[0m\n",
      "\u001B[1;31mTypeError\u001B[0m: Only valid with DatetimeIndex, TimedeltaIndex or PeriodIndex, but got an instance of 'Index'"
     ]
    }
   ],
   "source": [
    "df2.resample('M')"
   ]
  },
  {
   "cell_type": "code",
   "execution_count": 43,
   "metadata": {},
   "outputs": [
    {
     "ename": "KeyError",
     "evalue": "'Datetime'",
     "output_type": "error",
     "traceback": [
      "\u001B[1;31m---------------------------------------------------------------------------\u001B[0m",
      "\u001B[1;31mKeyError\u001B[0m                                  Traceback (most recent call last)",
      "\u001B[1;32m~\\Anaconda3\\lib\\site-packages\\pandas\\core\\indexes\\base.py\u001B[0m in \u001B[0;36mget_loc\u001B[1;34m(self, key, method, tolerance)\u001B[0m\n\u001B[0;32m   2645\u001B[0m             \u001B[1;32mtry\u001B[0m\u001B[1;33m:\u001B[0m\u001B[1;33m\u001B[0m\u001B[1;33m\u001B[0m\u001B[0m\n\u001B[1;32m-> 2646\u001B[1;33m                 \u001B[1;32mreturn\u001B[0m \u001B[0mself\u001B[0m\u001B[1;33m.\u001B[0m\u001B[0m_engine\u001B[0m\u001B[1;33m.\u001B[0m\u001B[0mget_loc\u001B[0m\u001B[1;33m(\u001B[0m\u001B[0mkey\u001B[0m\u001B[1;33m)\u001B[0m\u001B[1;33m\u001B[0m\u001B[1;33m\u001B[0m\u001B[0m\n\u001B[0m\u001B[0;32m   2647\u001B[0m             \u001B[1;32mexcept\u001B[0m \u001B[0mKeyError\u001B[0m\u001B[1;33m:\u001B[0m\u001B[1;33m\u001B[0m\u001B[1;33m\u001B[0m\u001B[0m\n",
      "\u001B[1;32mpandas\\_libs\\index.pyx\u001B[0m in \u001B[0;36mpandas._libs.index.IndexEngine.get_loc\u001B[1;34m()\u001B[0m\n",
      "\u001B[1;32mpandas\\_libs\\index.pyx\u001B[0m in \u001B[0;36mpandas._libs.index.IndexEngine.get_loc\u001B[1;34m()\u001B[0m\n",
      "\u001B[1;32mpandas\\_libs\\hashtable_class_helper.pxi\u001B[0m in \u001B[0;36mpandas._libs.hashtable.PyObjectHashTable.get_item\u001B[1;34m()\u001B[0m\n",
      "\u001B[1;32mpandas\\_libs\\hashtable_class_helper.pxi\u001B[0m in \u001B[0;36mpandas._libs.hashtable.PyObjectHashTable.get_item\u001B[1;34m()\u001B[0m\n",
      "\u001B[1;31mKeyError\u001B[0m: 'Datetime'",
      "\nDuring handling of the above exception, another exception occurred:\n",
      "\u001B[1;31mKeyError\u001B[0m                                  Traceback (most recent call last)",
      "\u001B[1;32m<ipython-input-43-2806abfa0ca7>\u001B[0m in \u001B[0;36m<module>\u001B[1;34m\u001B[0m\n\u001B[1;32m----> 1\u001B[1;33m fig = px.scatter(x=df['Datetime'].resample('Q').sum(),\n\u001B[0m\u001B[0;32m      2\u001B[0m                  \u001B[0my\u001B[0m\u001B[1;33m=\u001B[0m\u001B[0mdf\u001B[0m\u001B[1;33m[\u001B[0m\u001B[1;34m'Actual'\u001B[0m\u001B[1;33m]\u001B[0m\u001B[1;33m,\u001B[0m\u001B[1;33m\u001B[0m\u001B[1;33m\u001B[0m\u001B[0m\n\u001B[0;32m      3\u001B[0m                  \u001B[1;31m# hover_name=dff[dff['Indicator Name'] == yaxis_column_name]['Country Name']\u001B[0m\u001B[1;33m\u001B[0m\u001B[1;33m\u001B[0m\u001B[1;33m\u001B[0m\u001B[0m\n\u001B[0;32m      4\u001B[0m                  )\n\u001B[0;32m      5\u001B[0m \u001B[1;33m\u001B[0m\u001B[0m\n",
      "\u001B[1;32m~\\Anaconda3\\lib\\site-packages\\pandas\\core\\frame.py\u001B[0m in \u001B[0;36m__getitem__\u001B[1;34m(self, key)\u001B[0m\n\u001B[0;32m   2798\u001B[0m             \u001B[1;32mif\u001B[0m \u001B[0mself\u001B[0m\u001B[1;33m.\u001B[0m\u001B[0mcolumns\u001B[0m\u001B[1;33m.\u001B[0m\u001B[0mnlevels\u001B[0m \u001B[1;33m>\u001B[0m \u001B[1;36m1\u001B[0m\u001B[1;33m:\u001B[0m\u001B[1;33m\u001B[0m\u001B[1;33m\u001B[0m\u001B[0m\n\u001B[0;32m   2799\u001B[0m                 \u001B[1;32mreturn\u001B[0m \u001B[0mself\u001B[0m\u001B[1;33m.\u001B[0m\u001B[0m_getitem_multilevel\u001B[0m\u001B[1;33m(\u001B[0m\u001B[0mkey\u001B[0m\u001B[1;33m)\u001B[0m\u001B[1;33m\u001B[0m\u001B[1;33m\u001B[0m\u001B[0m\n\u001B[1;32m-> 2800\u001B[1;33m             \u001B[0mindexer\u001B[0m \u001B[1;33m=\u001B[0m \u001B[0mself\u001B[0m\u001B[1;33m.\u001B[0m\u001B[0mcolumns\u001B[0m\u001B[1;33m.\u001B[0m\u001B[0mget_loc\u001B[0m\u001B[1;33m(\u001B[0m\u001B[0mkey\u001B[0m\u001B[1;33m)\u001B[0m\u001B[1;33m\u001B[0m\u001B[1;33m\u001B[0m\u001B[0m\n\u001B[0m\u001B[0;32m   2801\u001B[0m             \u001B[1;32mif\u001B[0m \u001B[0mis_integer\u001B[0m\u001B[1;33m(\u001B[0m\u001B[0mindexer\u001B[0m\u001B[1;33m)\u001B[0m\u001B[1;33m:\u001B[0m\u001B[1;33m\u001B[0m\u001B[1;33m\u001B[0m\u001B[0m\n\u001B[0;32m   2802\u001B[0m                 \u001B[0mindexer\u001B[0m \u001B[1;33m=\u001B[0m \u001B[1;33m[\u001B[0m\u001B[0mindexer\u001B[0m\u001B[1;33m]\u001B[0m\u001B[1;33m\u001B[0m\u001B[1;33m\u001B[0m\u001B[0m\n",
      "\u001B[1;32m~\\Anaconda3\\lib\\site-packages\\pandas\\core\\indexes\\base.py\u001B[0m in \u001B[0;36mget_loc\u001B[1;34m(self, key, method, tolerance)\u001B[0m\n\u001B[0;32m   2646\u001B[0m                 \u001B[1;32mreturn\u001B[0m \u001B[0mself\u001B[0m\u001B[1;33m.\u001B[0m\u001B[0m_engine\u001B[0m\u001B[1;33m.\u001B[0m\u001B[0mget_loc\u001B[0m\u001B[1;33m(\u001B[0m\u001B[0mkey\u001B[0m\u001B[1;33m)\u001B[0m\u001B[1;33m\u001B[0m\u001B[1;33m\u001B[0m\u001B[0m\n\u001B[0;32m   2647\u001B[0m             \u001B[1;32mexcept\u001B[0m \u001B[0mKeyError\u001B[0m\u001B[1;33m:\u001B[0m\u001B[1;33m\u001B[0m\u001B[1;33m\u001B[0m\u001B[0m\n\u001B[1;32m-> 2648\u001B[1;33m                 \u001B[1;32mreturn\u001B[0m \u001B[0mself\u001B[0m\u001B[1;33m.\u001B[0m\u001B[0m_engine\u001B[0m\u001B[1;33m.\u001B[0m\u001B[0mget_loc\u001B[0m\u001B[1;33m(\u001B[0m\u001B[0mself\u001B[0m\u001B[1;33m.\u001B[0m\u001B[0m_maybe_cast_indexer\u001B[0m\u001B[1;33m(\u001B[0m\u001B[0mkey\u001B[0m\u001B[1;33m)\u001B[0m\u001B[1;33m)\u001B[0m\u001B[1;33m\u001B[0m\u001B[1;33m\u001B[0m\u001B[0m\n\u001B[0m\u001B[0;32m   2649\u001B[0m         \u001B[0mindexer\u001B[0m \u001B[1;33m=\u001B[0m \u001B[0mself\u001B[0m\u001B[1;33m.\u001B[0m\u001B[0mget_indexer\u001B[0m\u001B[1;33m(\u001B[0m\u001B[1;33m[\u001B[0m\u001B[0mkey\u001B[0m\u001B[1;33m]\u001B[0m\u001B[1;33m,\u001B[0m \u001B[0mmethod\u001B[0m\u001B[1;33m=\u001B[0m\u001B[0mmethod\u001B[0m\u001B[1;33m,\u001B[0m \u001B[0mtolerance\u001B[0m\u001B[1;33m=\u001B[0m\u001B[0mtolerance\u001B[0m\u001B[1;33m)\u001B[0m\u001B[1;33m\u001B[0m\u001B[1;33m\u001B[0m\u001B[0m\n\u001B[0;32m   2650\u001B[0m         \u001B[1;32mif\u001B[0m \u001B[0mindexer\u001B[0m\u001B[1;33m.\u001B[0m\u001B[0mndim\u001B[0m \u001B[1;33m>\u001B[0m \u001B[1;36m1\u001B[0m \u001B[1;32mor\u001B[0m \u001B[0mindexer\u001B[0m\u001B[1;33m.\u001B[0m\u001B[0msize\u001B[0m \u001B[1;33m>\u001B[0m \u001B[1;36m1\u001B[0m\u001B[1;33m:\u001B[0m\u001B[1;33m\u001B[0m\u001B[1;33m\u001B[0m\u001B[0m\n",
      "\u001B[1;32mpandas\\_libs\\index.pyx\u001B[0m in \u001B[0;36mpandas._libs.index.IndexEngine.get_loc\u001B[1;34m()\u001B[0m\n",
      "\u001B[1;32mpandas\\_libs\\index.pyx\u001B[0m in \u001B[0;36mpandas._libs.index.IndexEngine.get_loc\u001B[1;34m()\u001B[0m\n",
      "\u001B[1;32mpandas\\_libs\\hashtable_class_helper.pxi\u001B[0m in \u001B[0;36mpandas._libs.hashtable.PyObjectHashTable.get_item\u001B[1;34m()\u001B[0m\n",
      "\u001B[1;32mpandas\\_libs\\hashtable_class_helper.pxi\u001B[0m in \u001B[0;36mpandas._libs.hashtable.PyObjectHashTable.get_item\u001B[1;34m()\u001B[0m\n",
      "\u001B[1;31mKeyError\u001B[0m: 'Datetime'"
     ]
    }
   ],
   "source": [
    "\n",
    "fig = px.scatter(x=df['Datetime'].resample('Q').sum(),\n",
    "                 y=df['Actual'],\n",
    "                 # hover_name=dff[dff['Indicator Name'] == yaxis_column_name]['Country Name']\n",
    "                 )\n",
    "\n",
    "fig.show()\n"
   ]
  },
  {
   "cell_type": "code",
   "execution_count": null,
   "metadata": {},
   "outputs": [],
   "source": []
  }
 ],
 "metadata": {
  "kernelspec": {
   "display_name": "Python 3",
   "language": "python",
   "name": "python3"
  },
  "language_info": {
   "codemirror_mode": {
    "name": "ipython",
    "version": 3
   },
   "file_extension": ".py",
   "mimetype": "text/x-python",
   "name": "python",
   "nbconvert_exporter": "python",
   "pygments_lexer": "ipython3",
   "version": "3.8.3"
  }
 },
 "nbformat": 4,
 "nbformat_minor": 4
}